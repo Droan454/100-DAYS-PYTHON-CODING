{
  "nbformat": 4,
  "nbformat_minor": 0,
  "metadata": {
    "colab": {
      "name": "100 DAYS PYTHON.ipynb",
      "provenance": [],
      "authorship_tag": "ABX9TyOw5wuM1R2FWHp4V5nN+eyp",
      "include_colab_link": true
    },
    "kernelspec": {
      "name": "python3",
      "display_name": "Python 3"
    },
    "language_info": {
      "name": "python"
    }
  },
  "cells": [
    {
      "cell_type": "markdown",
      "metadata": {
        "id": "view-in-github",
        "colab_type": "text"
      },
      "source": [
        "<a href=\"https://colab.research.google.com/github/Droan454/100-DAYS-PYTHON-CODING/blob/main/100_DAYS_PYTHON.ipynb\" target=\"_parent\"><img src=\"https://colab.research.google.com/assets/colab-badge.svg\" alt=\"Open In Colab\"/></a>"
      ]
    },
    {
      "cell_type": "markdown",
      "source": [
        "##band-name-generator - DAY1"
      ],
      "metadata": {
        "id": "wYiuHsm1ARDe"
      }
    },
    {
      "cell_type": "code",
      "execution_count": 16,
      "metadata": {
        "colab": {
          "base_uri": "https://localhost:8080/"
        },
        "id": "E34YlUqQADRD",
        "outputId": "309dbf2f-73f9-4552-a003-6ad865c26271"
      },
      "outputs": [
        {
          "output_type": "stream",
          "name": "stdout",
          "text": [
            "What is your first name?saswata\n",
            "What is your surname?pradhan\n",
            "Your band is called...\n",
            "The Secret Panthers\n"
          ]
        }
      ],
      "source": [
        "'welcome to band name generator !'\n",
        "firstName = input(\"What is your first name?\").lower()\n",
        "surname = input(\"What is your surname?\").lower()\n",
        "bandAnimal = (\"Alligators\", \"Bats\", \"Cats\", \"Dolphins\", \"Eagles\", \"Frogs\", \"Gerbils\", \"Horses\", \"Iguanas\", \"Jackals\", \"Kangaroos\", \"Leopards\", \"Meerkats\", \"Nighthawks\", \"Ocelots\", \"Panthers\", \"Quails\", \"Reptiles\", \"Shrews\", \"Turtles\", \"Unicorns\", \"Vipers\", \"Whales\", \"X-Rays\", \"Yaks\", \"Zebras\")\n",
        "bandAdjective = (\"Angry\", \"Bashful\", \"Crazy\", \"Deadly\", \"Evil\", \"Fierce\", \"Grizzly\", \"Happy\", \"Indigo\", \"Jealous\", \"Kicking\", \"Lonely\", \"Mysterious\", \"New\", \"Old\", \"Pretty\", \"Quiet\", \"Raving\", \"Secret\", \"Tidy\", \"Untidy\", \"Vicious\", \"Whispering\", \"X-Rated\", \"Yellow\", \"Zany\")\n",
        "\n",
        "NameInitial = firstName[0]\n",
        "NumInitial = ord(NameInitial)-97\n",
        "surnameInitial = surname[0]\n",
        "surnumInitial = ord(surnameInitial)-97\n",
        "\n",
        "print (\"Your band is called...\")\n",
        "print (\"The \" + bandAdjective[NumInitial] + \" \" + bandAnimal[surnumInitial])\n"
      ]
    },
    {
      "cell_type": "code",
      "source": [
        ""
      ],
      "metadata": {
        "id": "6kXjNb3XR_f0"
      },
      "execution_count": null,
      "outputs": []
    }
  ]
}